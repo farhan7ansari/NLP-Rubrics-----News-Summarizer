{
 "cells": [
  {
   "cell_type": "code",
   "execution_count": 1,
   "id": "c54857d6-5d31-4cae-9831-0428daa30de4",
   "metadata": {},
   "outputs": [],
   "source": [
    "import re\n",
    "from collections import defaultdict"
   ]
  },
  {
   "cell_type": "code",
   "execution_count": 2,
   "id": "96959201-0670-489f-aa89-835f854f9cd6",
   "metadata": {},
   "outputs": [],
   "source": [
    "# Simple sentence tokenizer splitting by '.', '?', '!'\n",
    "def tokenize_sentences(text):\n",
    "    sentences = re.split(r'(?<=[.!?]) +', text)\n",
    "    return [s.strip() for s in sentences if s]"
   ]
  },
  {
   "cell_type": "code",
   "execution_count": 3,
   "id": "b13fc297-328b-4117-a332-910b0e4cf8e7",
   "metadata": {},
   "outputs": [],
   "source": [
    "# Lowercase and extract words (simple)\n",
    "def tokenize_words(text):\n",
    "    return re.findall(r'\\b\\w+\\b', text.lower())"
   ]
  },
  {
   "cell_type": "code",
   "execution_count": 4,
   "id": "991e022c-1ffc-45f9-8ae7-5b7cb988a494",
   "metadata": {},
   "outputs": [],
   "source": [
    "def compute_word_frequencies(words, stopwords):\n",
    "    freq = defaultdict(int)\n",
    "    for word in words:\n",
    "        if word not in stopwords:\n",
    "            freq[word] += 1\n",
    "    return freq"
   ]
  },
  {
   "cell_type": "code",
   "execution_count": 5,
   "id": "5a65b863-174f-4800-a07a-416908799ef1",
   "metadata": {},
   "outputs": [],
   "source": [
    "def score_sentences(sentences, word_freq):\n",
    "    sentence_scores = {}\n",
    "    for sent in sentences:\n",
    "        words = tokenize_words(sent)\n",
    "        score = 0\n",
    "        for word in words:\n",
    "            if word in word_freq:\n",
    "                score += word_freq[word]\n",
    "        sentence_scores[sent] = score\n",
    "    return sentence_scores"
   ]
  },
  {
   "cell_type": "code",
   "execution_count": 6,
   "id": "112219f4-b42a-45c0-8b3a-8d5e5b13be42",
   "metadata": {},
   "outputs": [],
   "source": [
    "def summarize(text, num_sentences=3):\n",
    "    # A small set of English stopwords\n",
    "    stopwords = set([\n",
    "        'a', 'an', 'the', 'and', 'or', 'if', 'is', 'are', 'was', 'were', 'in', 'on', 'at',\n",
    "        'of', 'for', 'to', 'with', 'without', 'by', 'as', 'from', 'that', 'this', 'it',\n",
    "        'be', 'has', 'have', 'had', 'but', 'not', 'they', 'he', 'she', 'we', 'you', 'i',\n",
    "        'his', 'her', 'their', 'them', 'our', 'us', 'can', 'will', 'would', 'should', 'could'\n",
    "    ])\n",
    "\n",
    "    sentences = tokenize_sentences(text)\n",
    "    words = tokenize_words(text)\n",
    "    word_freq = compute_word_frequencies(words, stopwords)\n",
    "    sentence_scores = score_sentences(sentences, word_freq)\n",
    "\n",
    "    # Sort sentences by score (descending)\n",
    "    ranked_sentences = sorted(sentence_scores, key=sentence_scores.get, reverse=True)\n",
    "\n",
    "    # Pick top N sentences for summary\n",
    "    summary_sentences = ranked_sentences[:num_sentences]\n",
    "\n",
    "    # To keep original order of sentences in summary:\n",
    "    summary_sentences = sorted(summary_sentences, key=lambda s: sentences.index(s))\n",
    "\n",
    "    summary = ' '.join(summary_sentences)\n",
    "    return summary"
   ]
  },
  {
   "cell_type": "code",
   "execution_count": 7,
   "id": "1b4ac0ae-7236-4235-9466-a24ea9fe8bcf",
   "metadata": {},
   "outputs": [
    {
     "name": "stdin",
     "output_type": "stream",
     "text": [
      "Enter Text(max. 250 words) to Summarize:\n",
      " A decade ago, a young K Tanishq Muralidhar Naidu saw sports as an escape from the classroom. Today, that escape has taken him to the world stage.  The 20-year-old from Hyderabad, who once preferred targets over textbooks, is now an Asian Shooting Champion in the junior category, bagging bronze and gold in the standard pistol event at the recent championship in Kazakhstan.  Son of a retired Navy officer, Tanishq told his parents at age 10 that academics didn’t interest him and he wanted to pursue sports. His parents encouraged him, gifting him admission to a city firing academy for his 11th birthday. “I was never interested in studies and always wanted to become an athlete.  The dream of reaching the Olympics never left me,” Tanishq tells TNIE. “After trying various sports, pistol shooting struck a chord. Coming from a Navy background, discipline was ingrained in me, which played a big role in my training.”  Tanishq pursued shooting as a hobby through his early teens but paused during his Class 10 exams. The Covid-19 lockdown stretched that break into two years, and he nearly lost touch with the sport. Watching the Tokyo Olympics in 2021 reignited his passion, and he resumed training in September that year. Since then, it has been 4–5 hours of daily practice, a strict diet and a regimented routine.  “Mental agility is the most crucial prerequisite for pistol shooting,” he says.   Advertisement His international debut came at the 15th Asian Shooting Championship in Changwon, South Korea, in 2023, where he won silver in the 25m rapid fire pistol junior men’s team event. Setbacks followed — he was disqualified due to faulty ammunition at the ISSF Junior World Cup in Suhl, Germany, in May. But persistence paid off at the 16th Asian Shooting Championship in August, where he clinched bronze in the 25m Standard Pistol Junior Men individual event and gold in the team event.  Though he excelled in the standard pistol category, his true passion lies in the 25m rapid fire pistol category. “The speed of the game and the intense focus give me the drive. You have to fire five shots in just four seconds,” he explains.  With German world record holder Christian Reitz as his role model, Tanishq now has his eyes set on the 2028 Olympics. “I don’t feel the weight of achievements. I simply love the game; that’s my biggest motivation,” he remarks.\n"
     ]
    },
    {
     "name": "stdout",
     "output_type": "stream",
     "text": [
      "\n",
      "Summary:\n",
      " The 20-year-old from Hyderabad, who once preferred targets over textbooks, is now an Asian Shooting Champion in the junior category, bagging bronze and gold in the standard pistol event at the recent championship in Kazakhstan. Advertisement His international debut came at the 15th Asian Shooting Championship in Changwon, South Korea, in 2023, where he won silver in the 25m rapid fire pistol junior men’s team event. But persistence paid off at the 16th Asian Shooting Championship in August, where he clinched bronze in the 25m Standard Pistol Junior Men individual event and gold in the team event.\n"
     ]
    }
   ],
   "source": [
    "if __name__ == \"__main__\":\n",
    "    text = str(input(\"Enter Text(max. 250 words) to Summarize:\\n\"))\n",
    "    print(\"\\nSummary:\\n\", summarize(text, num_sentences=3))"
   ]
  },
  {
   "cell_type": "code",
   "execution_count": null,
   "id": "d502610c-9059-4ead-9f3f-d7a7c2dd2b7a",
   "metadata": {},
   "outputs": [],
   "source": []
  }
 ],
 "metadata": {
  "kernelspec": {
   "display_name": "Python 3 (ipykernel)",
   "language": "python",
   "name": "python3"
  },
  "language_info": {
   "codemirror_mode": {
    "name": "ipython",
    "version": 3
   },
   "file_extension": ".py",
   "mimetype": "text/x-python",
   "name": "python",
   "nbconvert_exporter": "python",
   "pygments_lexer": "ipython3",
   "version": "3.13.2"
  }
 },
 "nbformat": 4,
 "nbformat_minor": 5
}
